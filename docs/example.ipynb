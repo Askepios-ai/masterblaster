{
 "cells": [
  {
   "cell_type": "markdown",
   "metadata": {},
   "source": [
    "# Usage\n",
    "To use `masterblaster.py` in a project:"
   ]
  },
  {
   "cell_type": "code",
   "execution_count": 1,
   "metadata": {},
   "outputs": [
    {
     "name": "stdout",
     "output_type": "stream",
     "text": [
      "0.0.6\n"
     ]
    }
   ],
   "source": [
    "import masterblaster\n",
    "\n",
    "print(masterblaster.__version__)"
   ]
  },
  {
   "cell_type": "code",
   "execution_count": null,
   "metadata": {},
   "outputs": [],
   "source": [
    "import asyncio\n",
    "from masterblaster import MasterBlaster\n",
    "\n",
    "def main():\n",
    "    '''\n",
    "    This is a simple example of how to use the MasterBlaster class getting all members in an organization.\n",
    "    '''\n",
    "    async def ex1():\n",
    "        mb = await MasterBlaster.create(\"MY-TOKEN-HERE\", \"MY-ORGANIZATION-HERE\")\n",
    "        for member in await mb.get_members():\n",
    "            print(member)\n",
    "        await mb.teardown()\n",
    "\n",
    "    async def ex2():\n",
    "        async with MasterBlaster(\"MY-TOKEN-HERE\", \"MY-ORGANIZATION-HERE\") as mb:\n",
    "            for member in await mb.get_members():\n",
    "                print(member)\n",
    "    \n",
    "    async def ex3():\n",
    "        mb = MasterBlaster(\"MY-TOKEN-HERE\", \"MY-ORGANIZATION-HERE\")\n",
    "        #...\n",
    "        #...\n",
    "        async with mb:\n",
    "            for member in await mb.get_members():\n",
    "                print(member)\n",
    "        #...\n",
    "    \n",
    "    asyncio.run(ex1())\n",
    "    asyncio.run(ex2())\n",
    "    asyncio.run(ex3())\n",
    "\n"
   ]
  }
 ],
 "metadata": {
  "kernelspec": {
   "display_name": "Python 3 (ipykernel)",
   "language": "python",
   "name": "python3"
  },
  "language_info": {
   "codemirror_mode": {
    "name": "ipython",
    "version": 3
   },
   "file_extension": ".py",
   "mimetype": "text/x-python",
   "name": "python",
   "nbconvert_exporter": "python",
   "pygments_lexer": "ipython3",
   "version": "3.10.13"
  }
 },
 "nbformat": 4,
 "nbformat_minor": 2
}
