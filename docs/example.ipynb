{
 "cells": [
  {
   "cell_type": "markdown",
   "metadata": {},
   "source": [
    "# Usage\n",
    "To use `masterblaster` in a project:"
   ]
  },
  {
   "cell_type": "code",
   "execution_count": 4,
   "metadata": {},
   "outputs": [
    {
     "ename": "ModuleNotFoundError",
     "evalue": "No module named 'masterblaster'",
     "output_type": "error",
     "traceback": [
      "\u001b[0;31m---------------------------------------------------------------------------\u001b[0m",
      "\u001b[0;31mModuleNotFoundError\u001b[0m                       Traceback (most recent call last)",
      "Cell \u001b[0;32mIn[4], line 1\u001b[0m\n\u001b[0;32m----> 1\u001b[0m \u001b[38;5;28;01mimport\u001b[39;00m \u001b[38;5;21;01mmasterblaster\u001b[39;00m\u001b[38;5;21;01m.\u001b[39;00m\u001b[38;5;21;01mpy\u001b[39;00m\n\u001b[1;32m      3\u001b[0m \u001b[38;5;28mprint\u001b[39m(masterblaster\u001b[38;5;241m.\u001b[39m__version__)\n",
      "\u001b[0;31mModuleNotFoundError\u001b[0m: No module named 'masterblaster'"
     ]
    }
   ],
   "source": [
    "import masterblaster\n",
    "\n",
    "print(masterblaster.__version__)"
   ]
  },
  {
   "cell_type": "code",
   "execution_count": null,
   "metadata": {},
   "outputs": [],
   "source": [
    "import asyncio\n",
    "from masterblaster import MasterBlaster\n",
    "\n",
    "def main():\n",
    "    '''\n",
    "    This is a simple example of how to use the MasterBlaster class getting all members in an organization.\n",
    "    '''\n",
    "    async def ex1():\n",
    "        mb = await MasterBlaster.create(\"MY-TOKEN-HERE\", \"MY-ORGANIZATION-HERE\")\n",
    "        for member in await mb.get_members():\n",
    "            print(member)\n",
    "        await mb.teardown()\n",
    "\n",
    "    async def ex2():\n",
    "        async with MasterBlaster(\"MY-TOKEN-HERE\", \"MY-ORGANIZATION-HERE\") as mb:\n",
    "            for member in await mb.get_members():\n",
    "                print(member)\n",
    "    \n",
    "    async def ex3():\n",
    "        mb = MasterBlaster(\"MY-TOKEN-HERE\", \"MY-ORGANIZATION-HERE\")\n",
    "        #...\n",
    "        #...\n",
    "        async with mb:\n",
    "            for member in await mb.get_members():\n",
    "                print(member)\n",
    "        #...\n",
    "    \n",
    "    asyncio.run(ex1())\n",
    "    asyncio.run(ex2())\n",
    "    asyncio.run(ex3())\n",
    "\n"
   ]
  }
 ],
 "metadata": {
  "kernelspec": {
   "display_name": "Python 3 (ipykernel)",
   "language": "python",
   "name": "python3"
  },
  "language_info": {
   "codemirror_mode": {
    "name": "ipython",
    "version": 3
   },
   "file_extension": ".py",
   "mimetype": "text/x-python",
   "name": "python",
   "nbconvert_exporter": "python",
   "pygments_lexer": "ipython3",
   "version": "3.10.13"
  }
 },
 "nbformat": 4,
 "nbformat_minor": 2
}
