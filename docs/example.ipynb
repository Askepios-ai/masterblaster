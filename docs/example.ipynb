{
 "cells": [
  {
   "cell_type": "markdown",
   "metadata": {},
   "source": [
    "# Usage\n",
    "To use `masterblaster.py` in a project:"
   ]
  },
  {
   "cell_type": "code",
   "execution_count": 1,
   "metadata": {},
   "outputs": [
    {
     "name": "stdout",
     "output_type": "stream",
     "text": [
      "0.1.0-rc.4\n"
     ]
    }
   ],
   "source": [
    "import masterblaster\n",
    "\n",
    "print(masterblaster.__version__)"
   ]
  },
  {
   "cell_type": "code",
   "execution_count": 2,
   "metadata": {},
   "outputs": [],
   "source": [
    "import asyncio\n",
    "from masterblaster import MasterBlaster\n",
    "\n",
    "def main():\n",
    "    '''\n",
    "    This is a simple example of how to use the MasterBlaster class getting all members in an organization.\n",
    "    '''\n",
    "    async def ex1():\n",
    "        async with masterblaster.MasterBlaster(\"MY-TOKEN-HERE\") as m:\n",
    "            for org in await m.get_all_orgs():\n",
    "                for member in await org.get_members():\n",
    "                    print(member)\n",
    "\n",
    "    async def ex2():\n",
    "        m = masterblaster.MasterBlaster(\"MY-TOKEN-HERE\")\n",
    "        #...\n",
    "        #...\n",
    "        async with m:\n",
    "            org = await m.get_org_by_name(\"MY_ORG-NAME\")\n",
    "            for member in await org.get_members():\n",
    "                print(member)\n",
    "        #...\n",
    "\n",
    "    async def ex3():\n",
    "        m = await masterblaster.MasterBlaster.create(\"MY-TOKEN-HERE\")\n",
    "        org = await m.get_org(\"MY-ORG-ID\"):\n",
    "        for member in await org.get_members():\n",
    "            print(member)\n",
    "        await m.teardown()\n",
    "    \n",
    "    asyncio.run(ex1())\n",
    "    asyncio.run(ex2())\n",
    "    asyncio.run(ex3())\n",
    "\n"
   ]
  }
 ],
 "metadata": {
  "kernelspec": {
   "display_name": "Python 3 (ipykernel)",
   "language": "python",
   "name": "python3"
  },
  "language_info": {
   "codemirror_mode": {
    "name": "ipython",
    "version": 3
   },
   "file_extension": ".py",
   "mimetype": "text/x-python",
   "name": "python",
   "nbconvert_exporter": "python",
   "pygments_lexer": "ipython3",
   "version": "3.10.6"
  }
 },
 "nbformat": 4,
 "nbformat_minor": 2
}
